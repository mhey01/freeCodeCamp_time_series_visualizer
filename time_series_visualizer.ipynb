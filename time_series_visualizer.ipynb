{
 "cells": [
  {
   "cell_type": "code",
   "execution_count": 17,
   "metadata": {},
   "outputs": [],
   "source": [
    "%matplotlib inline\n",
    "\n",
    "import matplotlib.pyplot as plt\n",
    "import pandas as pd\n",
    "import seaborn as sns\n",
    "from pandas.plotting import register_matplotlib_converters\n",
    "register_matplotlib_converters()"
   ]
  },
  {
   "cell_type": "code",
   "execution_count": 22,
   "metadata": {},
   "outputs": [
    {
     "data": {
      "text/plain": [
       "(1304, 1)"
      ]
     },
     "execution_count": 22,
     "metadata": {},
     "output_type": "execute_result"
    }
   ],
   "source": [
    "# Import data (Make sure to parse dates. Consider setting index column to 'date'.)\n",
    "df = pd.read_csv('fcc-forum-pageviews.csv', index_col='date', parse_dates=True)\n",
    "\n",
    "df.shape"
   ]
  },
  {
   "cell_type": "code",
   "execution_count": 23,
   "metadata": {},
   "outputs": [
    {
     "data": {
      "text/html": [
       "<div>\n",
       "<style scoped>\n",
       "    .dataframe tbody tr th:only-of-type {\n",
       "        vertical-align: middle;\n",
       "    }\n",
       "\n",
       "    .dataframe tbody tr th {\n",
       "        vertical-align: top;\n",
       "    }\n",
       "\n",
       "    .dataframe thead th {\n",
       "        text-align: right;\n",
       "    }\n",
       "</style>\n",
       "<table border=\"1\" class=\"dataframe\">\n",
       "  <thead>\n",
       "    <tr style=\"text-align: right;\">\n",
       "      <th></th>\n",
       "      <th>value</th>\n",
       "    </tr>\n",
       "    <tr>\n",
       "      <th>date</th>\n",
       "      <th></th>\n",
       "    </tr>\n",
       "  </thead>\n",
       "  <tbody>\n",
       "    <tr>\n",
       "      <th>2016-05-19</th>\n",
       "      <td>19736</td>\n",
       "    </tr>\n",
       "    <tr>\n",
       "      <th>2016-05-26</th>\n",
       "      <td>18060</td>\n",
       "    </tr>\n",
       "    <tr>\n",
       "      <th>2016-05-27</th>\n",
       "      <td>19997</td>\n",
       "    </tr>\n",
       "    <tr>\n",
       "      <th>2016-05-28</th>\n",
       "      <td>19044</td>\n",
       "    </tr>\n",
       "    <tr>\n",
       "      <th>2016-05-29</th>\n",
       "      <td>20325</td>\n",
       "    </tr>\n",
       "  </tbody>\n",
       "</table>\n",
       "</div>"
      ],
      "text/plain": [
       "            value\n",
       "date             \n",
       "2016-05-19  19736\n",
       "2016-05-26  18060\n",
       "2016-05-27  19997\n",
       "2016-05-28  19044\n",
       "2016-05-29  20325"
      ]
     },
     "execution_count": 23,
     "metadata": {},
     "output_type": "execute_result"
    }
   ],
   "source": [
    "# Clean data\n",
    "# Filter out days when the page views were in the top 2.5% of the dataset or bottom 2.5% of the dataset.\n",
    "df = df[\n",
    "    (df['value'] >= df['value'].quantile(0.025)) &\n",
    "    (df['value'] <= df['value'].quantile(0.975))\n",
    "]\n",
    "\n",
    "df.head()"
   ]
  },
  {
   "cell_type": "code",
   "execution_count": null,
   "metadata": {},
   "outputs": [],
   "source": [
    "# Draw line plot\n",
    "# Function that uses Matplotlib to draw a line chart similar to \"examples/Figure_1.png\".\n",
    "# The title should be Daily freeCodeCamp Forum Page Views 5/2016-12/2019.\n",
    "# The label on the x axis should be Date and the label on the y axis should be Page Views.\n",
    "def draw_line_plot():    \n",
    "    fig, ax = plt.subplots(figsize=(10,5))\n",
    "    ax.plot(\n",
    "        df.index,\n",
    "        df['value'],\n",
    "        color='red',\n",
    "        linewidth=1\n",
    "    )\n",
    "    ax.set_title('Daily freeCodeCamp Forum Page Views 5/2016-12/2019')\n",
    "    ax.set_xlabel('Date')\n",
    "    ax.set_ylabel('Page Views')\n",
    "\n",
    "    fig.savefig('line_plot.png')"
   ]
  },
  {
   "cell_type": "code",
   "execution_count": null,
   "metadata": {},
   "outputs": [],
   "source": [
    "# Draw bar plot\n",
    "# Function that draws a bar chart similar to \"examples/Figure_2.png\".\n",
    "# It should show average daily page views for each month grouped by year.\n",
    "# The legend should show month labels and have a title of Months.\n",
    "# On the chart, the label on the x axis should be Years and the label on the y axis should be Average Page Views.\n",
    "def draw_bar_plot():\n",
    "    # Copy and modify data for monthly bar plot\n",
    "    df_bar = df.copy()\n",
    "\n",
    "    month_order = [\n",
    "        'January', 'February', 'March', 'April',\n",
    "        'May', 'June', 'July', 'August',\n",
    "        'September', 'October', 'November', 'December'\n",
    "    ]\n",
    "\n",
    "    df_bar['year'] = df_bar.index.year\n",
    "    df_bar['month'] = df_bar.index.month\n",
    "    df_bar['month'] = pd.to_datetime(df_bar['month'], format='%m').dt.month_name()\n",
    "    df_bar.sort_index(inplace=True)\n",
    "\n",
    "    df_bar = df_bar.groupby(['year', 'month'])['value'].mean().reset_index()\n",
    "\n",
    "    # Draw bar plot\n",
    "    fig, ax = plt.subplots(figsize=(10, 5))\n",
    "\n",
    "    sns.barplot(\n",
    "        x = df_bar['year'],\n",
    "        y = df_bar['value'],\n",
    "        hue = df_bar['month'],\n",
    "        hue_order = month_order\n",
    "    )\n",
    "\n",
    "    ax.set_xlabel('Years')\n",
    "    ax.set_ylabel('Average Page Views')\n",
    "    plt.legend(title='Months')\n",
    "\n",
    "    plt.show()\n",
    "\n",
    "\n",
    "\n",
    "\n",
    "    # Save image and return fig (don't change this part)\n",
    "    fig.savefig('bar_plot.png')\n",
    "    return fig"
   ]
  },
  {
   "cell_type": "code",
   "execution_count": null,
   "metadata": {},
   "outputs": [],
   "source": [
    "def draw_box_plot():\n",
    "    # Prepare data for box plots (this part is done!)\n",
    "    df_box = df.copy()\n",
    "    df_box.reset_index(inplace=True)\n",
    "    df_box['year'] = [d.year for d in df_box.date]\n",
    "    df_box['month'] = [d.strftime('%b') for d in df_box.date]\n",
    "\n",
    "    month_order = [\n",
    "        'Jan', 'Feb', 'Mar', 'Apr',\n",
    "        'May', 'Jun', 'Jul', 'Aug',\n",
    "        'Sep', 'Oct', 'Nov', 'Dec'\n",
    "    ]\n",
    "\n",
    "    # Draw box plots (using Seaborn)\n",
    "    fig, (ax1, ax2) = plt.subplots(1, 2, sharey=True, figsize=(20,5))\n",
    "\n",
    "    sns.boxplot(\n",
    "        df_box,\n",
    "        x = df_box['year'],\n",
    "        y = df_box['value'],\n",
    "        ax = ax1\n",
    "    )\n",
    "    ax1.set_title('Year-wise Box Plot (Trend)')\n",
    "    ax1.set_xlabel('Year')\n",
    "    ax1.set_ylabel('Page Views')\n",
    "\n",
    "    sns.boxplot(\n",
    "        df_box,\n",
    "        x = df_box['month'],\n",
    "        y = df_box['value'],\n",
    "        order = month_order,\n",
    "        ax = ax2\n",
    "    )\n",
    "    ax2.set_title('Month-wise Box Plot (Seasonality)')\n",
    "    ax2.set_xlabel('Month')\n",
    "    ax2.set_ylabel('Page Views')\n",
    "\n",
    "    plt.show()\n",
    "\n",
    "\n",
    "\n",
    "\n",
    "    # Save image and return fig (don't change this part)\n",
    "    fig.savefig('box_plot.png')\n",
    "    return fig\n"
   ]
  }
 ],
 "metadata": {
  "kernelspec": {
   "display_name": "Python 3",
   "language": "python",
   "name": "python3"
  },
  "language_info": {
   "codemirror_mode": {
    "name": "ipython",
    "version": 3
   },
   "file_extension": ".py",
   "mimetype": "text/x-python",
   "name": "python",
   "nbconvert_exporter": "python",
   "pygments_lexer": "ipython3",
   "version": "3.10.7"
  },
  "orig_nbformat": 4,
  "vscode": {
   "interpreter": {
    "hash": "ab4bd2cad5486e9cd6f3ed79226ce4035eaeecd97c179af70252365802dd78c4"
   }
  }
 },
 "nbformat": 4,
 "nbformat_minor": 2
}
